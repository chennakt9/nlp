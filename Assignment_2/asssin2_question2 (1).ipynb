{
  "nbformat": 4,
  "nbformat_minor": 0,
  "metadata": {
    "colab": {
      "name": "asssin2_question2.ipynb",
      "provenance": [],
      "collapsed_sections": [],
      "toc_visible": true
    },
    "kernelspec": {
      "name": "python3",
      "display_name": "Python 3"
    },
    "accelerator": "GPU"
  },
  "cells": [
    {
      "cell_type": "code",
      "metadata": {
        "id": "rmaoAoJk2tI3",
        "colab_type": "code",
        "outputId": "9c1b4928-b6b4-454d-a7c4-2a1197b81356",
        "colab": {
          "base_uri": "https://localhost:8080/",
          "height": 87
        }
      },
      "source": [
        "import numpy as np\n",
        "import gensim\n",
        "import string\n",
        "import re\n",
        "import math\n",
        "\n",
        "\n",
        "from keras.callbacks import LambdaCallback\n",
        "from keras.layers.recurrent import LSTM\n",
        "from keras.layers.embeddings import Embedding\n",
        "from keras.layers import Dense, Activation, SimpleRNN\n",
        "from keras.models import Sequential\n",
        "from keras.utils.data_utils import get_file\n",
        "\n",
        "\n",
        "from nltk.tokenize import sent_tokenize, word_tokenize\n",
        "import nltk\n",
        "nltk.download('punkt')"
      ],
      "execution_count": 1,
      "outputs": [
        {
          "output_type": "stream",
          "text": [
            "Using TensorFlow backend.\n"
          ],
          "name": "stderr"
        },
        {
          "output_type": "stream",
          "text": [
            "[nltk_data] Downloading package punkt to /root/nltk_data...\n",
            "[nltk_data]   Package punkt is already up-to-date!\n"
          ],
          "name": "stdout"
        },
        {
          "output_type": "execute_result",
          "data": {
            "text/plain": [
              "True"
            ]
          },
          "metadata": {
            "tags": []
          },
          "execution_count": 1
        }
      ]
    },
    {
      "cell_type": "code",
      "metadata": {
        "id": "0nqp-LBV3o2E",
        "colab_type": "code",
        "outputId": "792d0d95-5732-4d7e-e24d-9550d71cc37f",
        "colab": {
          "base_uri": "https://localhost:8080/",
          "height": 34
        }
      },
      "source": [
        "from google.colab import drive\n",
        "drive.mount('/content/drive')"
      ],
      "execution_count": 2,
      "outputs": [
        {
          "output_type": "stream",
          "text": [
            "Drive already mounted at /content/drive; to attempt to forcibly remount, call drive.mount(\"/content/drive\", force_remount=True).\n"
          ],
          "name": "stdout"
        }
      ]
    },
    {
      "cell_type": "markdown",
      "metadata": {
        "id": "1F3zlGaFQPH4",
        "colab_type": "text"
      },
      "source": [
        "#PreProcessing"
      ]
    },
    {
      "cell_type": "code",
      "metadata": {
        "id": "_tin_iH64Xdk",
        "colab_type": "code",
        "outputId": "e17dddae-12a6-49a6-a3d0-bbe28ee2c416",
        "colab": {
          "base_uri": "https://localhost:8080/",
          "height": 122
        }
      },
      "source": [
        "!ls\n",
        "%cd drive/\n",
        "!ls\n",
        "%cd \"My Drive\"\n",
        "# !ls\n",
        "%cd assigmment_nlp\n",
        "!ls\n",
        "\n",
        "\n",
        "max_length = 40\n",
        "with open(\"speeches.txt\", 'r', encoding='utf-8') as myfile:\n",
        "  c = myfile.read()\n",
        "  c=c.lower()\n",
        "  token = sent_tokenize(c)\n",
        "  token = [re.sub(r'[^a-z0-9]',\" \", i) for i in token]\n",
        "  \n",
        "sent_token = [\"<s> \" + i + \"</s>\" for i in token]\n",
        "# token\n",
        "\n",
        "sentences = [sent.split()[:max_length] for sent in sent_token]\n",
        "\n",
        "train = sentences[:int(len(sentences)*0.8)]\n",
        "test = sentences[int(len(sentences)*0.8):]\n",
        "\n",
        "# print(test)\n",
        "\n",
        "sentences = train\n",
        "\n",
        "\n",
        "word_model = gensim.models.Word2Vec(sentences, size=100, min_count=1, window=5, iter=100)\n"
      ],
      "execution_count": 3,
      "outputs": [
        {
          "output_type": "stream",
          "text": [
            "drive  sample_data\n",
            "/content/drive\n",
            "'My Drive'  'Shared drives'\n",
            "/content/drive/My Drive\n",
            "/content/drive/My Drive/assigmment_nlp\n",
            "austin.txt  speeches.txt\n"
          ],
          "name": "stdout"
        }
      ]
    },
    {
      "cell_type": "markdown",
      "metadata": {
        "id": "I89IcoJAP0bg",
        "colab_type": "text"
      },
      "source": [
        "#Getting word vectors from word2vec"
      ]
    },
    {
      "cell_type": "code",
      "metadata": {
        "id": "NQQMZ1a6RYxf",
        "colab_type": "code",
        "outputId": "3ec6e344-6a01-4d17-dd51-c2e2e767a92c",
        "colab": {
          "base_uri": "https://localhost:8080/",
          "height": 52
        }
      },
      "source": [
        "trained_weights = word_model.wv.vectors\n",
        "trained_vocabs = list(word_model.wv.vocab)\n",
        "# word_model[\"</s>\"]\n",
        "vocab_size = word_model.wv.vectors.shape[0]\n",
        "embedding_size = word_model.wv.vectors.shape[1]\n",
        "# print(embedding_size)\n",
        "\n",
        "print(vocab_size)\n",
        "\n",
        "def word2idx(word):\n",
        "  return word_model.wv.vocab[word].index       #https://github.com/carpedm20/word2vec-tensorflow/blob/master/model.py \n",
        "def idx2word(idx):                             #reference \n",
        "  return word_model.wv.index2word[idx]\n",
        "\n",
        "\n",
        "\n",
        "# print(trained_weights[0])\n",
        "\n",
        "# print(word2idx('thank'))\n",
        "\n",
        "# word_model.wv.vocab['</s>'].index\n",
        "\n",
        "word_model.wv.index2word[122]"
      ],
      "execution_count": 4,
      "outputs": [
        {
          "output_type": "stream",
          "text": [
            "5177\n"
          ],
          "name": "stdout"
        },
        {
          "output_type": "execute_result",
          "data": {
            "text/plain": [
              "'things'"
            ]
          },
          "metadata": {
            "tags": []
          },
          "execution_count": 4
        }
      ]
    },
    {
      "cell_type": "markdown",
      "metadata": {
        "id": "WbLmhl1ApZqI",
        "colab_type": "text"
      },
      "source": [
        "#Model Initialization LSTM"
      ]
    },
    {
      "cell_type": "code",
      "metadata": {
        "id": "04N2F_f-pX96",
        "colab_type": "code",
        "outputId": "1075443d-1666-44cf-c562-637d3e308e30",
        "colab": {
          "base_uri": "https://localhost:8080/",
          "height": 248
        }
      },
      "source": [
        "lstm_model = Sequential()\n",
        "lstm_model.add(Embedding(input_dim=vocab_size, output_dim=embedding_size, weights=[trained_weights]))\n",
        "lstm_model.add(LSTM(units=embedding_size))\n",
        "lstm_model.add(Dense(units=vocab_size))\n",
        "lstm_model.add(Activation('softmax'))\n",
        "lstm_model.compile(optimizer='adam', loss='sparse_categorical_crossentropy')"
      ],
      "execution_count": 5,
      "outputs": [
        {
          "output_type": "stream",
          "text": [
            "WARNING:tensorflow:From /usr/local/lib/python3.6/dist-packages/keras/backend/tensorflow_backend.py:66: The name tf.get_default_graph is deprecated. Please use tf.compat.v1.get_default_graph instead.\n",
            "\n",
            "WARNING:tensorflow:From /usr/local/lib/python3.6/dist-packages/keras/backend/tensorflow_backend.py:541: The name tf.placeholder is deprecated. Please use tf.compat.v1.placeholder instead.\n",
            "\n",
            "WARNING:tensorflow:From /usr/local/lib/python3.6/dist-packages/keras/backend/tensorflow_backend.py:4432: The name tf.random_uniform is deprecated. Please use tf.random.uniform instead.\n",
            "\n",
            "WARNING:tensorflow:From /usr/local/lib/python3.6/dist-packages/keras/backend/tensorflow_backend.py:190: The name tf.get_default_session is deprecated. Please use tf.compat.v1.get_default_session instead.\n",
            "\n",
            "WARNING:tensorflow:From /usr/local/lib/python3.6/dist-packages/keras/backend/tensorflow_backend.py:197: The name tf.ConfigProto is deprecated. Please use tf.compat.v1.ConfigProto instead.\n",
            "\n",
            "WARNING:tensorflow:From /usr/local/lib/python3.6/dist-packages/keras/optimizers.py:793: The name tf.train.Optimizer is deprecated. Please use tf.compat.v1.train.Optimizer instead.\n",
            "\n"
          ],
          "name": "stdout"
        }
      ]
    },
    {
      "cell_type": "markdown",
      "metadata": {
        "id": "0dJYNHJ1pief",
        "colab_type": "text"
      },
      "source": [
        "#Getting Input and Output Samples for Model"
      ]
    },
    {
      "cell_type": "code",
      "metadata": {
        "id": "j_8pVUOJkbM0",
        "colab_type": "code",
        "outputId": "cdb392f4-946f-4563-fa2e-5045ed44b845",
        "colab": {
          "base_uri": "https://localhost:8080/",
          "height": 52
        }
      },
      "source": [
        "print(len(sentences))\n",
        "train_x = np.zeros([len(sentences), max_length], dtype=np.int32)\n",
        "# print(train_x)\n",
        "train_y = np.zeros([len(sentences)], dtype=np.int32)\n",
        "print(train_y.shape)\n",
        "for i, sentence in enumerate(sentences):\n",
        "  for t, word in enumerate(sentence[:-1]):\n",
        "    train_x[i, t] = word2idx(word)\n",
        "  train_y[i] = word2idx(sentence[-1])\n",
        "# print('train_x shape:', train_x.shape)\n",
        "# print('train_y shape:', train_y.shape)"
      ],
      "execution_count": 6,
      "outputs": [
        {
          "output_type": "stream",
          "text": [
            "13120\n",
            "(13120,)\n"
          ],
          "name": "stdout"
        }
      ]
    },
    {
      "cell_type": "markdown",
      "metadata": {
        "id": "njznrADlF4MC",
        "colab_type": "text"
      },
      "source": [
        "#Training the Model LSTM"
      ]
    },
    {
      "cell_type": "code",
      "metadata": {
        "id": "mEQZ8XXp5Ppk",
        "colab_type": "code",
        "outputId": "fbc16605-c91e-4326-99e4-a579ca5bc7a5",
        "colab": {
          "base_uri": "https://localhost:8080/",
          "height": 811
        }
      },
      "source": [
        "lstm_model.fit(train_x, train_y,\n",
        "          batch_size=128,\n",
        "          epochs=20)"
      ],
      "execution_count": 7,
      "outputs": [
        {
          "output_type": "stream",
          "text": [
            "WARNING:tensorflow:From /usr/local/lib/python3.6/dist-packages/tensorflow/python/ops/math_grad.py:1250: add_dispatch_support.<locals>.wrapper (from tensorflow.python.ops.array_ops) is deprecated and will be removed in a future version.\n",
            "Instructions for updating:\n",
            "Use tf.where in 2.0, which has the same broadcast rule as np.where\n",
            "Epoch 1/20\n",
            "13120/13120 [==============================] - 8s 614us/step - loss: 1.8626\n",
            "Epoch 2/20\n",
            "13120/13120 [==============================] - 7s 549us/step - loss: 0.1275\n",
            "Epoch 3/20\n",
            "13120/13120 [==============================] - 7s 543us/step - loss: 0.1069\n",
            "Epoch 4/20\n",
            "13120/13120 [==============================] - 7s 545us/step - loss: 0.0934\n",
            "Epoch 5/20\n",
            "13120/13120 [==============================] - 7s 545us/step - loss: 0.0837\n",
            "Epoch 6/20\n",
            "13120/13120 [==============================] - 7s 545us/step - loss: 0.0760\n",
            "Epoch 7/20\n",
            "13120/13120 [==============================] - 7s 545us/step - loss: 0.0683\n",
            "Epoch 8/20\n",
            "13120/13120 [==============================] - 7s 553us/step - loss: 0.0616\n",
            "Epoch 9/20\n",
            "13120/13120 [==============================] - 7s 549us/step - loss: 0.0545\n",
            "Epoch 10/20\n",
            "13120/13120 [==============================] - 7s 545us/step - loss: 0.0477\n",
            "Epoch 11/20\n",
            "13120/13120 [==============================] - 7s 543us/step - loss: 0.0405\n",
            "Epoch 12/20\n",
            "13120/13120 [==============================] - 7s 549us/step - loss: 0.0342\n",
            "Epoch 13/20\n",
            "13120/13120 [==============================] - 7s 549us/step - loss: 0.0286\n",
            "Epoch 14/20\n",
            "13120/13120 [==============================] - 7s 546us/step - loss: 0.0229\n",
            "Epoch 15/20\n",
            "13120/13120 [==============================] - 7s 556us/step - loss: 0.0182\n",
            "Epoch 16/20\n",
            "13120/13120 [==============================] - 7s 546us/step - loss: 0.0141\n",
            "Epoch 17/20\n",
            "13120/13120 [==============================] - 7s 544us/step - loss: 0.0113\n",
            "Epoch 18/20\n",
            "13120/13120 [==============================] - 7s 545us/step - loss: 0.0090\n",
            "Epoch 19/20\n",
            "13120/13120 [==============================] - 7s 546us/step - loss: 0.0070\n",
            "Epoch 20/20\n",
            "13120/13120 [==============================] - 7s 545us/step - loss: 0.0058\n"
          ],
          "name": "stdout"
        },
        {
          "output_type": "execute_result",
          "data": {
            "text/plain": [
              "<keras.callbacks.History at 0x7fb6011c20b8>"
            ]
          },
          "metadata": {
            "tags": []
          },
          "execution_count": 7
        }
      ]
    },
    {
      "cell_type": "markdown",
      "metadata": {
        "id": "FLF6EsBwFyUc",
        "colab_type": "text"
      },
      "source": [
        "#Generating Sentences from LSTM Model"
      ]
    },
    {
      "cell_type": "code",
      "metadata": {
        "id": "3YBa8Ek63q9R",
        "colab_type": "code",
        "outputId": "b67cf6f9-fcdc-4dc6-e61a-f57805fe192f",
        "colab": {
          "base_uri": "https://localhost:8080/",
          "height": 140
        }
      },
      "source": [
        "start_arr = ['They are','so','here','we','with']\n",
        "print(\"Sentences generated by LSTM : \\n\")\n",
        "for i in start_arr:\n",
        "\n",
        "  \n",
        "  len_of_seq = 3\n",
        "  word_idxs = [word2idx(word) for word in i.lower().split()]\n",
        "\n",
        "\n",
        "\n",
        "  for i in range(len_of_seq):\n",
        "    preds = lstm_model.predict(x=np.array([word_idxs]))\n",
        "\n",
        "    probas = np.random.multinomial(1, preds[0], 1)\n",
        "\n",
        "    idx = np.argmax(probas)\n",
        "\n",
        "    word_idxs.append(idx)\n",
        "\n",
        "  print(' '.join(idx2word(idx) for idx in word_idxs))\n"
      ],
      "execution_count": 8,
      "outputs": [
        {
          "output_type": "stream",
          "text": [
            "Sentences generated by LSTM : \n",
            "\n",
            "they are interests shooters vibrant\n",
            "so wife of than\n",
            "here stupidly lucky each\n",
            "we colonel arrested 53\n",
            "with hasn sign their\n"
          ],
          "name": "stdout"
        }
      ]
    },
    {
      "cell_type": "markdown",
      "metadata": {
        "id": "XytOuYI6lYHG",
        "colab_type": "text"
      },
      "source": [
        "#Model for RNN"
      ]
    },
    {
      "cell_type": "code",
      "metadata": {
        "id": "3Mwvq6uQlWpi",
        "colab_type": "code",
        "colab": {}
      },
      "source": [
        "rnn_model = Sequential()\n",
        "rnn_model.add(Embedding(input_dim=vocab_size, output_dim=embedding_size, weights=[trained_weights]))\n",
        "rnn_model.add(SimpleRNN(units=embedding_size))\n",
        "rnn_model.add(Dense(units=vocab_size))\n",
        "rnn_model.add(Activation('softmax'))\n",
        "rnn_model.compile(optimizer='adam', loss='sparse_categorical_crossentropy')"
      ],
      "execution_count": 0,
      "outputs": []
    },
    {
      "cell_type": "markdown",
      "metadata": {
        "id": "ugWRnMq_moaC",
        "colab_type": "text"
      },
      "source": [
        "#Training RNN Model"
      ]
    },
    {
      "cell_type": "code",
      "metadata": {
        "id": "j8aeYqwslzC1",
        "colab_type": "code",
        "outputId": "aca515dc-bc99-4e70-c317-4d9f75c03fc8",
        "colab": {
          "base_uri": "https://localhost:8080/",
          "height": 738
        }
      },
      "source": [
        "rnn_model.fit(train_x, train_y,\n",
        "          batch_size=128,\n",
        "          epochs=20)"
      ],
      "execution_count": 10,
      "outputs": [
        {
          "output_type": "stream",
          "text": [
            "Epoch 1/20\n",
            "13120/13120 [==============================] - 2s 187us/step - loss: 1.9799\n",
            "Epoch 2/20\n",
            "13120/13120 [==============================] - 2s 157us/step - loss: 0.1560\n",
            "Epoch 3/20\n",
            "13120/13120 [==============================] - 2s 156us/step - loss: 0.1218\n",
            "Epoch 4/20\n",
            "13120/13120 [==============================] - 2s 156us/step - loss: 0.1032\n",
            "Epoch 5/20\n",
            "13120/13120 [==============================] - 2s 154us/step - loss: 0.0914\n",
            "Epoch 6/20\n",
            "13120/13120 [==============================] - 2s 156us/step - loss: 0.0830\n",
            "Epoch 7/20\n",
            "13120/13120 [==============================] - 2s 156us/step - loss: 0.0760\n",
            "Epoch 8/20\n",
            "13120/13120 [==============================] - 2s 155us/step - loss: 0.0699\n",
            "Epoch 9/20\n",
            "13120/13120 [==============================] - 2s 154us/step - loss: 0.0640\n",
            "Epoch 10/20\n",
            "13120/13120 [==============================] - 2s 155us/step - loss: 0.0581\n",
            "Epoch 11/20\n",
            "13120/13120 [==============================] - 2s 154us/step - loss: 0.0522\n",
            "Epoch 12/20\n",
            "13120/13120 [==============================] - 2s 157us/step - loss: 0.0462\n",
            "Epoch 13/20\n",
            "13120/13120 [==============================] - 2s 153us/step - loss: 0.0405\n",
            "Epoch 14/20\n",
            "13120/13120 [==============================] - 2s 156us/step - loss: 0.0351\n",
            "Epoch 15/20\n",
            "13120/13120 [==============================] - 2s 157us/step - loss: 0.0299\n",
            "Epoch 16/20\n",
            "13120/13120 [==============================] - 2s 156us/step - loss: 0.0252\n",
            "Epoch 17/20\n",
            "13120/13120 [==============================] - 2s 156us/step - loss: 0.0208\n",
            "Epoch 18/20\n",
            "13120/13120 [==============================] - 2s 157us/step - loss: 0.0174\n",
            "Epoch 19/20\n",
            "13120/13120 [==============================] - 2s 153us/step - loss: 0.0141\n",
            "Epoch 20/20\n",
            "13120/13120 [==============================] - 2s 154us/step - loss: 0.0129\n"
          ],
          "name": "stdout"
        },
        {
          "output_type": "execute_result",
          "data": {
            "text/plain": [
              "<keras.callbacks.History at 0x7fb600848160>"
            ]
          },
          "metadata": {
            "tags": []
          },
          "execution_count": 10
        }
      ]
    },
    {
      "cell_type": "markdown",
      "metadata": {
        "id": "VKdwjZtrokS_",
        "colab_type": "text"
      },
      "source": [
        "#Generating Sentences from RNN Model"
      ]
    },
    {
      "cell_type": "code",
      "metadata": {
        "id": "2zLuu8tql7_X",
        "colab_type": "code",
        "outputId": "1c1079d3-d10b-40c7-e4b5-effca76f8658",
        "colab": {
          "base_uri": "https://localhost:8080/",
          "height": 140
        }
      },
      "source": [
        "start_arr = ['They are','so','here','we','with']\n",
        "print(\"Sentences generated by RNN : \\n\")\n",
        "for i in start_arr:\n",
        "\n",
        "  \n",
        "  len_of_seq = 3\n",
        "  word_idxs = [word2idx(word) for word in i.lower().split()]\n",
        "\n",
        "\n",
        "\n",
        "  for i in range(len_of_seq):\n",
        "    preds = rnn_model.predict(x=np.array([word_idxs]))\n",
        "\n",
        "    probas = np.random.multinomial(1, preds[0], 1)\n",
        "\n",
        "    idx = np.argmax(probas)\n",
        "\n",
        "    word_idxs.append(idx)\n",
        "\n",
        "  print(' '.join(idx2word(idx) for idx in word_idxs))"
      ],
      "execution_count": 11,
      "outputs": [
        {
          "output_type": "stream",
          "text": [
            "Sentences generated by RNN : \n",
            "\n",
            "they are walker dudes announcers\n",
            "so having ho pages\n",
            "here steel jewish columbus\n",
            "we strengthen arrange door\n",
            "with of he accuse\n"
          ],
          "name": "stdout"
        }
      ]
    },
    {
      "cell_type": "markdown",
      "metadata": {
        "id": "eXi_boM6s3I2",
        "colab_type": "text"
      },
      "source": [
        "#Perplexity of LSTM Model\n"
      ]
    },
    {
      "cell_type": "code",
      "metadata": {
        "id": "KX9n3UY4tLsj",
        "colab_type": "code",
        "outputId": "33b0fc20-3873-4b46-8fd5-2159d0f9fa60",
        "colab": {
          "base_uri": "https://localhost:8080/",
          "height": 34
        }
      },
      "source": [
        "\n",
        "sent_data=test\n",
        "\n",
        "word_model = gensim.models.Word2Vec(sent_data, size=100, min_count=1, iter=100)\n",
        "trained_vocabs = word_model.wv.vocab\n",
        "trained_weights = np.array(word_model.wv.vectors)\n",
        "vocab_size = word_model.wv.vectors.shape[0]\n",
        "embedding_size = word_model.wv.vectors.shape[1]\n",
        "\n",
        "      \n",
        "\n",
        "perplexity=0\n",
        "for i, line in enumerate(sent_data):\n",
        "  x=line[:-1]\n",
        "  y=line[-1]\n",
        "  windex_x=[word_model.wv.vocab[word].index for word in x]\n",
        "  preds=lstm_model.predict(x=np.array([windex_x]))\n",
        "  idx=word_model.wv.vocab[y].index\n",
        "  prob=preds[0][idx]\n",
        "  perplexity=perplexity-(math.log(prob)/len(sent_data))\n",
        "perplexity=math.exp(perplexity)\n",
        "\n",
        "perplexity"
      ],
      "execution_count": 12,
      "outputs": [
        {
          "output_type": "execute_result",
          "data": {
            "text/plain": [
              "30.403669349067883"
            ]
          },
          "metadata": {
            "tags": []
          },
          "execution_count": 12
        }
      ]
    },
    {
      "cell_type": "markdown",
      "metadata": {
        "id": "9tpBcVz-oS93",
        "colab_type": "text"
      },
      "source": [
        "###Readability of LSTM and RNN models is much better than n-gram models"
      ]
    },
    {
      "cell_type": "markdown",
      "metadata": {
        "id": "d4zCSxaDol3s",
        "colab_type": "text"
      },
      "source": [
        "### LSTM is a better than RNN in terms of Perplexity ### "
      ]
    }
  ]
}