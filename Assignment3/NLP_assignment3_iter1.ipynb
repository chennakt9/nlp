{
  "nbformat": 4,
  "nbformat_minor": 0,
  "metadata": {
    "colab": {
      "name": "NLP_assignment3_iter1.ipynb",
      "provenance": [],
      "collapsed_sections": []
    },
    "kernelspec": {
      "name": "python3",
      "display_name": "Python 3"
    },
    "accelerator": "GPU"
  },
  "cells": [
    {
      "cell_type": "code",
      "metadata": {
        "id": "uivGg-gvpIch",
        "colab_type": "code",
        "outputId": "760d7e84-0846-4744-ed10-e1a14af68d5b",
        "colab": {
          "base_uri": "https://localhost:8080/",
          "height": 81
        }
      },
      "source": [
        "import pandas as pd\n",
        "import numpy as np\n",
        "import re\n",
        "import json\n",
        "import nltk\n",
        "from nltk.corpus import stopwords\n",
        "\n",
        "from numpy import array\n",
        "import keras\n",
        "from keras.preprocessing.text import one_hot\n",
        "from keras.preprocessing.sequence import pad_sequences\n",
        "from keras.models import Sequential\n",
        "from keras.layers.recurrent import LSTM\n",
        "from keras.layers import Conv1D,GlobalMaxPooling1D,MaxPooling1D\n",
        "from keras.layers.core import Activation, Dropout, Dense\n",
        "from keras.layers import Flatten\n",
        "from keras.layers import GlobalMaxPooling1D\n",
        "from keras.layers.embeddings import Embedding\n",
        "from sklearn.model_selection import train_test_split\n",
        "from keras.preprocessing.text import Tokenizer\n",
        "from keras.callbacks import ModelCheckpoint\n",
        "\n",
        "from numpy import array\n",
        "from numpy import asarray\n",
        "from numpy import zeros"
      ],
      "execution_count": 1,
      "outputs": [
        {
          "output_type": "stream",
          "text": [
            "Using TensorFlow backend.\n"
          ],
          "name": "stderr"
        },
        {
          "output_type": "display_data",
          "data": {
            "text/html": [
              "<p style=\"color: red;\">\n",
              "The default version of TensorFlow in Colab will soon switch to TensorFlow 2.x.<br>\n",
              "We recommend you <a href=\"https://www.tensorflow.org/guide/migrate\" target=\"_blank\">upgrade</a> now \n",
              "or ensure your notebook will continue to use TensorFlow 1.x via the <code>%tensorflow_version 1.x</code> magic:\n",
              "<a href=\"https://colab.research.google.com/notebooks/tensorflow_version.ipynb\" target=\"_blank\">more info</a>.</p>\n"
            ],
            "text/plain": [
              "<IPython.core.display.HTML object>"
            ]
          },
          "metadata": {
            "tags": []
          }
        }
      ]
    },
    {
      "cell_type": "code",
      "metadata": {
        "id": "3XgGeJpwCcIA",
        "colab_type": "code",
        "outputId": "1bcd0bed-aa44-483b-ce18-d01a8f27b527",
        "colab": {
          "base_uri": "https://localhost:8080/",
          "height": 34
        }
      },
      "source": [
        "from google.colab import drive\n",
        "drive.mount('/content/drive')"
      ],
      "execution_count": 2,
      "outputs": [
        {
          "output_type": "stream",
          "text": [
            "Drive already mounted at /content/drive; to attempt to forcibly remount, call drive.mount(\"/content/drive\", force_remount=True).\n"
          ],
          "name": "stdout"
        }
      ]
    },
    {
      "cell_type": "code",
      "metadata": {
        "id": "DEVLyDjzCpYv",
        "colab_type": "code",
        "outputId": "760cca3b-27ba-477e-87a4-2d4ea63b4094",
        "colab": {
          "base_uri": "https://localhost:8080/",
          "height": 175
        }
      },
      "source": [
        "%cd drive/\n",
        "%cd 'My Drive'\n",
        "%cd Colab\\ Notebooks\n",
        "%cd NLP_Assignment/\n",
        "!ls"
      ],
      "execution_count": 3,
      "outputs": [
        {
          "output_type": "stream",
          "text": [
            "/content/drive\n",
            "/content/drive/My Drive\n",
            "/content/drive/My Drive/Colab Notebooks\n",
            "/content/drive/My Drive/Colab Notebooks/NLP_Assignment\n",
            "best_validation_weights.h5\t      movie_data.csv\n",
            "glove.6B.100d.txt\t\t      test.txt\n",
            "hin_eng.json\t\t\t      train.txt\n",
            "hin_eng_mixed_sentiment_word2vec.txt  words_not_found.txt\n",
            "model.png\n"
          ],
          "name": "stdout"
        }
      ]
    },
    {
      "cell_type": "markdown",
      "metadata": {
        "id": "sopMM2uZ0pUx",
        "colab_type": "text"
      },
      "source": [
        "#Preprocessing Train Text\n"
      ]
    },
    {
      "cell_type": "code",
      "metadata": {
        "id": "mgz4Xdo5FuD5",
        "colab_type": "code",
        "colab": {}
      },
      "source": [
        "fs_train = open('train.txt','r')\n",
        "arr_train = fs_train.readlines()\n",
        "sent_words_train = []\n",
        "temp_train = []\n",
        "for i in range(len(arr_train)-1):\n",
        "  if('meta' not in arr_train[i+1]):\n",
        "    temp_train.append(arr_train[i])\n",
        "  else:\n",
        "    sent_words_train.append(temp_train)\n",
        "    temp_train = []\n",
        "\n",
        "y_temp = []\n",
        "x_temp = []\n",
        "\n",
        "for i in sent_words_train:\n",
        "  \n",
        "  y_temp.append(i[0])\n",
        "  x_temp.append(i[1:])\n",
        "\n",
        "x_temp2 = []\n",
        "for i in x_temp:\n",
        "  tmp = []\n",
        "  for j in i:\n",
        "    s = j.split('\\t')\n",
        "    tmp.append(s[0])\n",
        "  x_temp2.append(' '.join(tmp))\n",
        "\n",
        "# x_temp2\n",
        "y_temp2 = []\n",
        "for i in y_temp:\n",
        "  s = i.split('\\t')\n",
        "  if(s[-1][:-1]=='negative'):\n",
        "    y_temp2.append(0)\n",
        "  elif(s[-1][:-1]=='neutral'):\n",
        "    y_temp2.append(1)\n",
        "  else:\n",
        "    y_temp2.append(2)\n",
        "\n",
        "# y_temp2\n",
        "fs_train.close()\n",
        "ff = open('words_not_found.txt','r')\n",
        "nfw = ff.readlines()\n",
        "not_found_words = []\n",
        "for i in nfw:\n",
        "  not_found_words.append(i[:-1])\n",
        "\n",
        "# print(not_found_words)\n",
        "ff.close()\n",
        "fj = open('hin_eng.json')\n",
        "hineng = json.load(fj)\n",
        "fj.close()\n",
        "\n",
        "\n",
        "\n",
        "x_train = []\n",
        "for i in x_temp2:\n",
        "  m = re.sub(r'@','',i)\n",
        "  n = re.sub(r'#','',m)\n",
        "  o = re.sub(r'_','',n)\n",
        "  x_train.append(re.sub(r'https.*$','',o))\n",
        "\n",
        "# y_temp2\n",
        "\n",
        "y_train = keras.utils.to_categorical(y_temp2, num_classes=None, dtype='float32')\n",
        "\n",
        "x_tt = []\n",
        "for i in x_train:\n",
        "  x_tt.append(i.split())\n",
        "\n",
        "# print(x_tt[:100])\n",
        "# for i in range(len(x_tt)):\n",
        "#   for j in range(len(x_tt[i])):\n",
        "#     if(x_tt[i][j] in not_found_words):\n",
        "#       if(x_tt[i][j] in hineng):\n",
        "#         # print(x_tt[i],x_tt[i][j],hineng[x_tt[i][j]])\n",
        "#         x_tt[i][j] = hineng[x_tt[i][j]]\n",
        "        \n",
        "# x_train_new = []\n",
        "# for i in x_tt:\n",
        "#   x_train_new.append(' '.join(i))\n",
        "\n",
        "# print(len(x_train_new))\n",
        "# print(len(x_train))\n",
        "# x_train = x_train_new\n",
        "\n"
      ],
      "execution_count": 0,
      "outputs": []
    },
    {
      "cell_type": "markdown",
      "metadata": {
        "id": "G_plhVdA03Uj",
        "colab_type": "text"
      },
      "source": [
        "#Preprocessing Test Corpus"
      ]
    },
    {
      "cell_type": "code",
      "metadata": {
        "id": "cWQD9fm9JnHO",
        "colab_type": "code",
        "colab": {}
      },
      "source": [
        "fs_test = open('test.txt','r')\n",
        "arr_test = fs_test.readlines()\n",
        "sent_words_test = []\n",
        "temp_test = []\n",
        "for i in range(len(arr_test)-1):\n",
        "  if('meta' not in arr_test[i+1]):\n",
        "    temp_test.append(arr_test[i])\n",
        "  else:\n",
        "    sent_words_test.append(temp_test)\n",
        "    temp_test = []\n",
        "\n",
        "y_temp = []\n",
        "x_temp = []\n",
        "\n",
        "for i in sent_words_test:\n",
        "  \n",
        "  y_temp.append(i[0])\n",
        "  x_temp.append(i[1:])\n",
        "\n",
        "x_temp2 = []\n",
        "for i in x_temp:\n",
        "  tmp = []\n",
        "  for j in i:\n",
        "    s = j.split('\\t')\n",
        "    tmp.append(s[0])\n",
        "  x_temp2.append(' '.join(tmp))\n",
        "\n",
        "# x_temp2\n",
        "y_temp2 = []\n",
        "for i in y_temp:\n",
        "  s = i.split('\\t')\n",
        "  if(s[-1][:-1]=='negative'):\n",
        "    y_temp2.append(0)\n",
        "  elif(s[-1][:-1]=='neutral'):\n",
        "    y_temp2.append(1)\n",
        "  else:\n",
        "    y_temp2.append(2)\n",
        "\n",
        "# y_temp2\n",
        "\n",
        "x_test = []\n",
        "for i in x_temp2:\n",
        "  m = re.sub(r'@','',i)\n",
        "  x_test.append(re.sub(r'https.*$','',m))\n",
        "\n",
        "# y_temp2\n",
        "\n",
        "y_test = keras.utils.to_categorical(y_temp2, num_classes=None, dtype='float32')\n",
        "\n",
        "len(x_test)\n",
        "fs_test.close()"
      ],
      "execution_count": 0,
      "outputs": []
    },
    {
      "cell_type": "markdown",
      "metadata": {
        "id": "K3T-U8d71DJZ",
        "colab_type": "text"
      },
      "source": [
        "#Tokenising"
      ]
    },
    {
      "cell_type": "code",
      "metadata": {
        "id": "9PKEXWxqDc38",
        "colab_type": "code",
        "colab": {}
      },
      "source": [
        "tokenizer = Tokenizer(num_words=5000)\n",
        "tokenizer.fit_on_texts(x_train+x_test)\n",
        "\n",
        "x_train = tokenizer.texts_to_sequences(x_train)\n",
        "x_test = tokenizer.texts_to_sequences(x_test)\n",
        "# x_train"
      ],
      "execution_count": 0,
      "outputs": []
    },
    {
      "cell_type": "code",
      "metadata": {
        "id": "HlfgencJKazs",
        "colab_type": "code",
        "colab": {
          "base_uri": "https://localhost:8080/",
          "height": 34
        },
        "outputId": "2859af27-e41f-4347-ce30-c0e054aeb337"
      },
      "source": [
        "vocab_size_train = len(tokenizer.word_index) + 1\n",
        "\n",
        "maxlen = 100\n",
        "\n",
        "x_train = pad_sequences(x_train, padding='post', maxlen=maxlen)\n",
        "x_test = pad_sequences(x_test, padding='post', maxlen=maxlen)\n",
        "vocab_size_train"
      ],
      "execution_count": 7,
      "outputs": [
        {
          "output_type": "execute_result",
          "data": {
            "text/plain": [
              "47521"
            ]
          },
          "metadata": {
            "tags": []
          },
          "execution_count": 7
        }
      ]
    },
    {
      "cell_type": "markdown",
      "metadata": {
        "id": "G02z9O8f1OMV",
        "colab_type": "text"
      },
      "source": [
        "#Processing Glove Embeddings File"
      ]
    },
    {
      "cell_type": "code",
      "metadata": {
        "id": "eYcVH3BeRGO6",
        "colab_type": "code",
        "colab": {}
      },
      "source": [
        "\n",
        "embeddings_dictionary_train = dict()\n",
        "glove_file = open('glove.6B.100d.txt', encoding=\"utf8\")\n",
        "\n",
        "for line in glove_file:\n",
        "    records = line.split()\n",
        "    word = records[0]\n",
        "    vector_dimensions = asarray(records[1:], dtype='float32')\n",
        "    embeddings_dictionary_train [word] = vector_dimensions\n",
        "glove_file.close()"
      ],
      "execution_count": 0,
      "outputs": []
    },
    {
      "cell_type": "markdown",
      "metadata": {
        "id": "aRKlnqR11aPj",
        "colab_type": "text"
      },
      "source": [
        "#Generating Embedding Matrix"
      ]
    },
    {
      "cell_type": "code",
      "metadata": {
        "id": "eJd5lI8_RJpl",
        "colab_type": "code",
        "colab": {
          "base_uri": "https://localhost:8080/",
          "height": 34
        },
        "outputId": "665b8dc5-f6de-43da-decd-08d84783eb49"
      },
      "source": [
        "count = 0\n",
        "words_not_found = []\n",
        "embedding_matrix_train = zeros((vocab_size_train, 100))\n",
        "for word, index in tokenizer.word_index.items():\n",
        "    embedding_vector = embeddings_dictionary_train.get(word)\n",
        "    if embedding_vector is not None:\n",
        "        embedding_matrix_train[index] = embedding_vector\n",
        "    else:\n",
        "      count+=1\n",
        "      words_not_found.append(word)\n",
        "\n",
        "count\n",
        "# f = open(\"words_not_found.txt\", \"w\")\n",
        "# for i in words_not_found:\n",
        "#   f.write(i+\"\\n\")\n",
        "# f.close()\n"
      ],
      "execution_count": 9,
      "outputs": [
        {
          "output_type": "execute_result",
          "data": {
            "text/plain": [
              "30548"
            ]
          },
          "metadata": {
            "tags": []
          },
          "execution_count": 9
        }
      ]
    },
    {
      "cell_type": "markdown",
      "metadata": {
        "id": "WCRuHGo51g7i",
        "colab_type": "text"
      },
      "source": [
        "#Recall Precision f1"
      ]
    },
    {
      "cell_type": "code",
      "metadata": {
        "id": "tq0wzs_tBdQq",
        "colab_type": "code",
        "colab": {}
      },
      "source": [
        "from keras import backend as K\n",
        "\n",
        "def recall_m(y_true, y_pred):\n",
        "        true_positives = K.sum(K.round(K.clip(y_true * y_pred, 0, 1)))\n",
        "        possible_positives = K.sum(K.round(K.clip(y_true, 0, 1)))\n",
        "        recall = true_positives / (possible_positives + K.epsilon())\n",
        "        return recall\n",
        "\n",
        "def precision_m(y_true, y_pred):\n",
        "        true_positives = K.sum(K.round(K.clip(y_true * y_pred, 0, 1)))\n",
        "        predicted_positives = K.sum(K.round(K.clip(y_pred, 0, 1)))\n",
        "        precision = true_positives / (predicted_positives + K.epsilon())\n",
        "        return precision\n",
        "\n",
        "def f1_m(y_true, y_pred):\n",
        "    precision = precision_m(y_true, y_pred)\n",
        "    recall = recall_m(y_true, y_pred)\n",
        "    return 2*((precision*recall)/(precision+recall+K.epsilon()))"
      ],
      "execution_count": 0,
      "outputs": []
    },
    {
      "cell_type": "markdown",
      "metadata": {
        "id": "y97_OZ-31fa1",
        "colab_type": "text"
      },
      "source": [
        "#Model"
      ]
    },
    {
      "cell_type": "code",
      "metadata": {
        "id": "Zsxo5XoYK3pJ",
        "colab_type": "code",
        "outputId": "0bb3c0b3-c791-4d6a-fcc0-3228500c266e",
        "colab": {
          "base_uri": "https://localhost:8080/",
          "height": 547
        }
      },
      "source": [
        "model = Sequential()\n",
        "model.add(Embedding(vocab_size_train, 100, weights=[embedding_matrix_train], input_length=maxlen))\n",
        "\n",
        "model.add(Conv1D(128, 4, activation='relu',padding='same'))\n",
        "model.add(Conv1D(128, 8, activation='relu',padding='same'))\n",
        "model.add(Dropout(0.3))\n",
        "model.add(Conv1D(128, 16, activation='relu',padding='same'))\n",
        "model.add(Conv1D(128, 32, activation='relu',padding='same'))\n",
        "\n",
        "model.add(MaxPooling1D(pool_size = 2))\n",
        "model.add(Dropout(0.3))\n",
        "model.add(GlobalMaxPooling1D())\n",
        "model.add(Dense(128, activation='relu'))\n",
        "model.add(Dropout(0.3))\n",
        "# model.add(LSTM(128))\n",
        "\n",
        "model.add(Dense(3, activation='softmax'))\n",
        "loss1 = 'categorical_crossentropy'\n",
        "# loss1 = 'sparse_categorical_crossentropy'\n",
        "model.compile(optimizer='adam', loss=loss1, metrics=['acc',f1_m,precision_m, recall_m])"
      ],
      "execution_count": 11,
      "outputs": [
        {
          "output_type": "stream",
          "text": [
            "WARNING:tensorflow:From /usr/local/lib/python3.6/dist-packages/keras/backend/tensorflow_backend.py:66: The name tf.get_default_graph is deprecated. Please use tf.compat.v1.get_default_graph instead.\n",
            "\n",
            "WARNING:tensorflow:From /usr/local/lib/python3.6/dist-packages/keras/backend/tensorflow_backend.py:541: The name tf.placeholder is deprecated. Please use tf.compat.v1.placeholder instead.\n",
            "\n",
            "WARNING:tensorflow:From /usr/local/lib/python3.6/dist-packages/keras/backend/tensorflow_backend.py:4432: The name tf.random_uniform is deprecated. Please use tf.random.uniform instead.\n",
            "\n",
            "WARNING:tensorflow:From /usr/local/lib/python3.6/dist-packages/keras/backend/tensorflow_backend.py:190: The name tf.get_default_session is deprecated. Please use tf.compat.v1.get_default_session instead.\n",
            "\n",
            "WARNING:tensorflow:From /usr/local/lib/python3.6/dist-packages/keras/backend/tensorflow_backend.py:197: The name tf.ConfigProto is deprecated. Please use tf.compat.v1.ConfigProto instead.\n",
            "\n",
            "WARNING:tensorflow:From /usr/local/lib/python3.6/dist-packages/keras/backend/tensorflow_backend.py:203: The name tf.Session is deprecated. Please use tf.compat.v1.Session instead.\n",
            "\n",
            "WARNING:tensorflow:From /usr/local/lib/python3.6/dist-packages/keras/backend/tensorflow_backend.py:207: The name tf.global_variables is deprecated. Please use tf.compat.v1.global_variables instead.\n",
            "\n",
            "WARNING:tensorflow:From /usr/local/lib/python3.6/dist-packages/keras/backend/tensorflow_backend.py:216: The name tf.is_variable_initialized is deprecated. Please use tf.compat.v1.is_variable_initialized instead.\n",
            "\n",
            "WARNING:tensorflow:From /usr/local/lib/python3.6/dist-packages/keras/backend/tensorflow_backend.py:223: The name tf.variables_initializer is deprecated. Please use tf.compat.v1.variables_initializer instead.\n",
            "\n",
            "WARNING:tensorflow:From /usr/local/lib/python3.6/dist-packages/keras/backend/tensorflow_backend.py:148: The name tf.placeholder_with_default is deprecated. Please use tf.compat.v1.placeholder_with_default instead.\n",
            "\n",
            "WARNING:tensorflow:From /usr/local/lib/python3.6/dist-packages/keras/backend/tensorflow_backend.py:3733: calling dropout (from tensorflow.python.ops.nn_ops) with keep_prob is deprecated and will be removed in a future version.\n",
            "Instructions for updating:\n",
            "Please use `rate` instead of `keep_prob`. Rate should be set to `rate = 1 - keep_prob`.\n",
            "WARNING:tensorflow:From /usr/local/lib/python3.6/dist-packages/keras/backend/tensorflow_backend.py:4267: The name tf.nn.max_pool is deprecated. Please use tf.nn.max_pool2d instead.\n",
            "\n",
            "WARNING:tensorflow:From /usr/local/lib/python3.6/dist-packages/keras/optimizers.py:793: The name tf.train.Optimizer is deprecated. Please use tf.compat.v1.train.Optimizer instead.\n",
            "\n",
            "WARNING:tensorflow:From /usr/local/lib/python3.6/dist-packages/keras/backend/tensorflow_backend.py:3576: The name tf.log is deprecated. Please use tf.math.log instead.\n",
            "\n"
          ],
          "name": "stdout"
        }
      ]
    },
    {
      "cell_type": "markdown",
      "metadata": {
        "id": "uHYTtMnp1pu_",
        "colab_type": "text"
      },
      "source": [
        "#Model Fit"
      ]
    },
    {
      "cell_type": "code",
      "metadata": {
        "id": "dblhOK0cLs_7",
        "colab_type": "code",
        "outputId": "728904e6-63b4-47fa-ab86-12fea189bf5e",
        "colab": {
          "base_uri": "https://localhost:8080/",
          "height": 618
        }
      },
      "source": [
        "checkpoint = ModelCheckpoint('best_validation_weights.h5',monitor='val_loss', verbose=0,save_best_only=True, save_weights_only=True)\n",
        "callback = [checkpoint]\n",
        "model.fit(x_train, y_train, batch_size=128, epochs=12, verbose=1, validation_data=(x_test,y_test),callbacks=callback)"
      ],
      "execution_count": 12,
      "outputs": [
        {
          "output_type": "stream",
          "text": [
            "WARNING:tensorflow:From /usr/local/lib/python3.6/dist-packages/tensorflow_core/python/ops/math_grad.py:1424: where (from tensorflow.python.ops.array_ops) is deprecated and will be removed in a future version.\n",
            "Instructions for updating:\n",
            "Use tf.where in 2.0, which has the same broadcast rule as np.where\n",
            "WARNING:tensorflow:From /usr/local/lib/python3.6/dist-packages/keras/backend/tensorflow_backend.py:1033: The name tf.assign_add is deprecated. Please use tf.compat.v1.assign_add instead.\n",
            "\n",
            "WARNING:tensorflow:From /usr/local/lib/python3.6/dist-packages/keras/backend/tensorflow_backend.py:1020: The name tf.assign is deprecated. Please use tf.compat.v1.assign instead.\n",
            "\n",
            "Train on 15132 samples, validate on 1869 samples\n",
            "Epoch 1/12\n",
            "15132/15132 [==============================] - 5s 329us/step - loss: 0.9831 - acc: 0.4849 - f1_m: 0.2749 - precision_m: 0.5886 - recall_m: 0.1895 - val_loss: 0.9992 - val_acc: 0.4735 - val_f1_m: 0.3849 - val_precision_m: 0.5257 - val_recall_m: 0.3039\n",
            "Epoch 2/12\n",
            "15132/15132 [==============================] - 2s 151us/step - loss: 0.8600 - acc: 0.5825 - f1_m: 0.4948 - precision_m: 0.6474 - recall_m: 0.4046 - val_loss: 0.9529 - val_acc: 0.5308 - val_f1_m: 0.4407 - val_precision_m: 0.6009 - val_recall_m: 0.3488\n",
            "Epoch 3/12\n",
            "15132/15132 [==============================] - 2s 153us/step - loss: 0.7696 - acc: 0.6462 - f1_m: 0.6174 - precision_m: 0.6801 - recall_m: 0.5663 - val_loss: 0.9758 - val_acc: 0.5190 - val_f1_m: 0.4726 - val_precision_m: 0.5739 - val_recall_m: 0.4024\n",
            "Epoch 4/12\n",
            "15132/15132 [==============================] - 2s 151us/step - loss: 0.6876 - acc: 0.6959 - f1_m: 0.6812 - precision_m: 0.7179 - recall_m: 0.6487 - val_loss: 1.0025 - val_acc: 0.5559 - val_f1_m: 0.5280 - val_precision_m: 0.5899 - val_recall_m: 0.4783\n",
            "Epoch 5/12\n",
            "15132/15132 [==============================] - 2s 151us/step - loss: 0.5747 - acc: 0.7616 - f1_m: 0.7562 - precision_m: 0.7716 - recall_m: 0.7415 - val_loss: 1.2011 - val_acc: 0.5313 - val_f1_m: 0.5201 - val_precision_m: 0.5442 - val_recall_m: 0.4981\n",
            "Epoch 6/12\n",
            "15132/15132 [==============================] - 2s 147us/step - loss: 0.4620 - acc: 0.8190 - f1_m: 0.8178 - precision_m: 0.8250 - recall_m: 0.8108 - val_loss: 1.2165 - val_acc: 0.5457 - val_f1_m: 0.5344 - val_precision_m: 0.5502 - val_recall_m: 0.5195\n",
            "Epoch 7/12\n",
            "15132/15132 [==============================] - 2s 150us/step - loss: 0.3552 - acc: 0.8635 - f1_m: 0.8630 - precision_m: 0.8660 - recall_m: 0.8602 - val_loss: 1.2843 - val_acc: 0.5377 - val_f1_m: 0.5324 - val_precision_m: 0.5413 - val_recall_m: 0.5238\n",
            "Epoch 8/12\n",
            "15132/15132 [==============================] - 2s 150us/step - loss: 0.2865 - acc: 0.8937 - f1_m: 0.8933 - precision_m: 0.8955 - recall_m: 0.8911 - val_loss: 1.4391 - val_acc: 0.5399 - val_f1_m: 0.5398 - val_precision_m: 0.5441 - val_recall_m: 0.5356\n",
            "Epoch 9/12\n",
            "15132/15132 [==============================] - 2s 149us/step - loss: 0.2305 - acc: 0.9215 - f1_m: 0.9217 - precision_m: 0.9228 - recall_m: 0.9205 - val_loss: 1.6358 - val_acc: 0.5345 - val_f1_m: 0.5321 - val_precision_m: 0.5351 - val_recall_m: 0.5292\n",
            "Epoch 10/12\n",
            "15132/15132 [==============================] - 2s 149us/step - loss: 0.1930 - acc: 0.9311 - f1_m: 0.9311 - precision_m: 0.9320 - recall_m: 0.9303 - val_loss: 1.6731 - val_acc: 0.5318 - val_f1_m: 0.5311 - val_precision_m: 0.5330 - val_recall_m: 0.5292\n",
            "Epoch 11/12\n",
            "15132/15132 [==============================] - 2s 149us/step - loss: 0.1737 - acc: 0.9380 - f1_m: 0.9381 - precision_m: 0.9394 - recall_m: 0.9369 - val_loss: 1.8951 - val_acc: 0.5201 - val_f1_m: 0.5192 - val_precision_m: 0.5210 - val_recall_m: 0.5174\n",
            "Epoch 12/12\n",
            "15132/15132 [==============================] - 2s 149us/step - loss: 0.1331 - acc: 0.9555 - f1_m: 0.9555 - precision_m: 0.9565 - recall_m: 0.9545 - val_loss: 1.8037 - val_acc: 0.5393 - val_f1_m: 0.5333 - val_precision_m: 0.5365 - val_recall_m: 0.5302\n"
          ],
          "name": "stdout"
        },
        {
          "output_type": "execute_result",
          "data": {
            "text/plain": [
              "<keras.callbacks.History at 0x7f84906ecdd8>"
            ]
          },
          "metadata": {
            "tags": []
          },
          "execution_count": 12
        }
      ]
    },
    {
      "cell_type": "markdown",
      "metadata": {
        "id": "gtkGVs0Q1v0V",
        "colab_type": "text"
      },
      "source": [
        "#Model Evaluate"
      ]
    },
    {
      "cell_type": "code",
      "metadata": {
        "id": "LEOgLTU6PKJD",
        "colab_type": "code",
        "outputId": "b4b24e48-d8c8-4346-c1c5-ae017359e753",
        "colab": {
          "base_uri": "https://localhost:8080/",
          "height": 122
        }
      },
      "source": [
        "model.evaluate(x_test, y_test, verbose=1)"
      ],
      "execution_count": 13,
      "outputs": [
        {
          "output_type": "stream",
          "text": [
            "1869/1869 [==============================] - 0s 164us/step\n"
          ],
          "name": "stdout"
        },
        {
          "output_type": "execute_result",
          "data": {
            "text/plain": [
              "[1.8036798962684415,\n",
              " 0.5393258428879764,\n",
              " 0.5332733879694013,\n",
              " 0.5364592127011637,\n",
              " 0.5302300697472594]"
            ]
          },
          "metadata": {
            "tags": []
          },
          "execution_count": 13
        }
      ]
    },
    {
      "cell_type": "code",
      "metadata": {
        "id": "S_GU20wDTDQf",
        "colab_type": "code",
        "colab": {
          "base_uri": "https://localhost:8080/",
          "height": 193
        },
        "outputId": "7fb4ee2d-aa2f-4f6a-f290-cbf76c95120e"
      },
      "source": [
        "from sklearn.metrics import classification_report\n",
        "y = np.argmax(model.predict(x_test),axis=1)\n",
        "y\n",
        "print(classification_report(np.argmax(y_test,axis=1),y))"
      ],
      "execution_count": 14,
      "outputs": [
        {
          "output_type": "stream",
          "text": [
            "              precision    recall  f1-score   support\n",
            "\n",
            "           0       0.59      0.49      0.54       532\n",
            "           1       0.51      0.54      0.52       754\n",
            "           2       0.55      0.58      0.56       583\n",
            "\n",
            "    accuracy                           0.54      1869\n",
            "   macro avg       0.55      0.54      0.54      1869\n",
            "weighted avg       0.54      0.54      0.54      1869\n",
            "\n"
          ],
          "name": "stdout"
        }
      ]
    },
    {
      "cell_type": "code",
      "metadata": {
        "id": "QZCVnH-nXeGk",
        "colab_type": "code",
        "outputId": "a26ee631-c8e3-44a1-f85a-667f3d2d4e06",
        "colab": {
          "base_uri": "https://localhost:8080/",
          "height": 1000
        }
      },
      "source": [
        "from keras.utils import plot_model\n",
        "plot_model(model, to_file='model.png')"
      ],
      "execution_count": 15,
      "outputs": [
        {
          "output_type": "execute_result",
          "data": {
            "image/png": "[encoded data removed]",
            "text/plain": [
              "<IPython.core.display.Image object>"
            ]
          },
          "metadata": {
            "tags": []
          },
          "execution_count": 15
        }
      ]
    }
  ]
}